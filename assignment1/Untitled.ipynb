{
 "cells": [
  {
   "cell_type": "code",
   "execution_count": 1,
   "id": "b5311db6-c839-423b-a2ae-b6b07c033bee",
   "metadata": {
    "tags": []
   },
   "outputs": [],
   "source": [
    "import numpy as np"
   ]
  },
  {
   "cell_type": "code",
   "execution_count": 2,
   "id": "1c8d8dd3-747b-4f43-99ad-9e44560dd654",
   "metadata": {
    "tags": []
   },
   "outputs": [],
   "source": [
    "X = np.array([0,1,3])"
   ]
  },
  {
   "cell_type": "code",
   "execution_count": 7,
   "id": "33489f74-1b94-4189-a98b-2debc411b456",
   "metadata": {
    "tags": []
   },
   "outputs": [
    {
     "data": {
      "text/plain": [
       "array([0, 1, 3, 1])"
      ]
     },
     "execution_count": 7,
     "metadata": {},
     "output_type": "execute_result"
    }
   ],
   "source": [
    "np.append(X,1)"
   ]
  },
  {
   "cell_type": "code",
   "execution_count": 10,
   "id": "7eb6af81-1bc0-4da1-87c3-3fd5a5b13233",
   "metadata": {
    "tags": []
   },
   "outputs": [],
   "source": [
    "X=np.ones((3,10))"
   ]
  },
  {
   "cell_type": "code",
   "execution_count": 17,
   "id": "72fd83b1-6751-40fd-86fb-1b9b8301bf7f",
   "metadata": {
    "tags": []
   },
   "outputs": [
    {
     "data": {
      "text/plain": [
       "array([[1., 1., 1., 1., 1., 1., 1., 1., 1., 1.],\n",
       "       [1., 1., 1., 1., 1., 1., 1., 1., 1., 1.],\n",
       "       [1., 1., 1., 1., 1., 1., 1., 1., 1., 1.]])"
      ]
     },
     "execution_count": 17,
     "metadata": {},
     "output_type": "execute_result"
    }
   ],
   "source": [
    "X"
   ]
  },
  {
   "cell_type": "code",
   "execution_count": 22,
   "id": "7de933e3-6aad-47d6-8b69-c04a5259290e",
   "metadata": {
    "tags": []
   },
   "outputs": [
    {
     "data": {
      "text/plain": [
       "array([[1., 1., 1., 1., 1., 1., 1., 1., 1., 1., 1.],\n",
       "       [1., 1., 1., 1., 1., 1., 1., 1., 1., 1., 1.],\n",
       "       [1., 1., 1., 1., 1., 1., 1., 1., 1., 1., 1.]])"
      ]
     },
     "execution_count": 22,
     "metadata": {},
     "output_type": "execute_result"
    }
   ],
   "source": [
    "np.hstack((X,np.ones((3,1))))"
   ]
  },
  {
   "cell_type": "code",
   "execution_count": null,
   "id": "a27a4374-6176-48a6-a5c6-2068e54fbbda",
   "metadata": {},
   "outputs": [],
   "source": []
  },
  {
   "cell_type": "code",
   "execution_count": null,
   "id": "836307ee-1dc2-4f8e-bd98-548d2ff980c5",
   "metadata": {},
   "outputs": [],
   "source": []
  }
 ],
 "metadata": {
  "kernelspec": {
   "display_name": "Python 3 (ipykernel)",
   "language": "python",
   "name": "python3"
  },
  "language_info": {
   "codemirror_mode": {
    "name": "ipython",
    "version": 3
   },
   "file_extension": ".py",
   "mimetype": "text/x-python",
   "name": "python",
   "nbconvert_exporter": "python",
   "pygments_lexer": "ipython3",
   "version": "3.11.5"
  }
 },
 "nbformat": 4,
 "nbformat_minor": 5
}
