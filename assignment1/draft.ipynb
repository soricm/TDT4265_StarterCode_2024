{
 "cells": [
  {
   "cell_type": "code",
   "execution_count": 1,
   "id": "b5311db6-c839-423b-a2ae-b6b07c033bee",
   "metadata": {
    "tags": []
   },
   "outputs": [],
   "source": [
    "import numpy as np"
   ]
  },
  {
   "cell_type": "code",
   "execution_count": 3,
   "id": "1c8d8dd3-747b-4f43-99ad-9e44560dd654",
   "metadata": {
    "tags": []
   },
   "outputs": [],
   "source": [
    "X = np.array([0,1,3])"
   ]
  },
  {
   "cell_type": "code",
   "execution_count": 4,
   "id": "33489f74-1b94-4189-a98b-2debc411b456",
   "metadata": {
    "tags": []
   },
   "outputs": [
    {
     "data": {
      "text/plain": [
       "array([0, 1, 3, 1])"
      ]
     },
     "execution_count": 4,
     "metadata": {},
     "output_type": "execute_result"
    }
   ],
   "source": [
    "np.append(X,1)"
   ]
  },
  {
   "cell_type": "code",
   "execution_count": 5,
   "id": "7eb6af81-1bc0-4da1-87c3-3fd5a5b13233",
   "metadata": {
    "tags": []
   },
   "outputs": [],
   "source": [
    "X=np.ones((3,10))"
   ]
  },
  {
   "cell_type": "code",
   "execution_count": 6,
   "id": "72fd83b1-6751-40fd-86fb-1b9b8301bf7f",
   "metadata": {
    "tags": []
   },
   "outputs": [
    {
     "data": {
      "text/plain": [
       "array([[1., 1., 1., 1., 1., 1., 1., 1., 1., 1.],\n",
       "       [1., 1., 1., 1., 1., 1., 1., 1., 1., 1.],\n",
       "       [1., 1., 1., 1., 1., 1., 1., 1., 1., 1.]])"
      ]
     },
     "execution_count": 6,
     "metadata": {},
     "output_type": "execute_result"
    }
   ],
   "source": [
    "X"
   ]
  },
  {
   "cell_type": "code",
   "execution_count": 7,
   "id": "7de933e3-6aad-47d6-8b69-c04a5259290e",
   "metadata": {
    "tags": []
   },
   "outputs": [
    {
     "data": {
      "text/plain": [
       "array([[1., 1., 1., 1., 1., 1., 1., 1., 1., 1., 1.],\n",
       "       [1., 1., 1., 1., 1., 1., 1., 1., 1., 1., 1.],\n",
       "       [1., 1., 1., 1., 1., 1., 1., 1., 1., 1., 1.]])"
      ]
     },
     "execution_count": 7,
     "metadata": {},
     "output_type": "execute_result"
    }
   ],
   "source": [
    "np.hstack((X,np.ones((3,1))))"
   ]
  },
  {
   "cell_type": "code",
   "execution_count": 14,
   "id": "a27a4374-6176-48a6-a5c6-2068e54fbbda",
   "metadata": {},
   "outputs": [],
   "source": [
    "w = np.ones((3, 2))*3"
   ]
  },
  {
   "cell_type": "code",
   "execution_count": 15,
   "id": "836307ee-1dc2-4f8e-bd98-548d2ff980c5",
   "metadata": {},
   "outputs": [
    {
     "data": {
      "text/plain": [
       "((3, 2), (3, 10))"
      ]
     },
     "execution_count": 15,
     "metadata": {},
     "output_type": "execute_result"
    }
   ],
   "source": [
    "w.shape, X.shape"
   ]
  },
  {
   "cell_type": "code",
   "execution_count": 17,
   "id": "c2ef4cdf-e9a4-4473-a1b3-fbe990a513d7",
   "metadata": {
    "tags": []
   },
   "outputs": [
    {
     "data": {
      "text/plain": [
       "array([[8103.08392758, 8103.08392758],\n",
       "       [8103.08392758, 8103.08392758],\n",
       "       [8103.08392758, 8103.08392758],\n",
       "       [8103.08392758, 8103.08392758],\n",
       "       [8103.08392758, 8103.08392758],\n",
       "       [8103.08392758, 8103.08392758],\n",
       "       [8103.08392758, 8103.08392758],\n",
       "       [8103.08392758, 8103.08392758],\n",
       "       [8103.08392758, 8103.08392758],\n",
       "       [8103.08392758, 8103.08392758]])"
      ]
     },
     "execution_count": 17,
     "metadata": {},
     "output_type": "execute_result"
    }
   ],
   "source": [
    "exp_z = np.exp(X.T @ w) \n",
    "exp_z"
   ]
  },
  {
   "cell_type": "code",
   "execution_count": 28,
   "id": "0a3e215f-ba62-4beb-8ad5-1b775dd274ec",
   "metadata": {
    "tags": []
   },
   "outputs": [
    {
     "data": {
      "text/plain": [
       "array([6.1704902e-05, 6.1704902e-05, 6.1704902e-05, 6.1704902e-05,\n",
       "       6.1704902e-05, 6.1704902e-05, 6.1704902e-05, 6.1704902e-05,\n",
       "       6.1704902e-05, 6.1704902e-05])"
      ]
     },
     "execution_count": 28,
     "metadata": {},
     "output_type": "execute_result"
    }
   ],
   "source": [
    "normalize = np.sum(exp_z, axis=1)\n",
    "1/normalize"
   ]
  },
  {
   "cell_type": "code",
   "execution_count": 26,
   "id": "fc1c868b-f71f-48ef-bb1d-f3de0e1f29e7",
   "metadata": {
    "tags": []
   },
   "outputs": [
    {
     "ename": "ValueError",
     "evalue": "operands could not be broadcast together with shapes (10,2) (10,) ",
     "output_type": "error",
     "traceback": [
      "\u001b[0;31m---------------------------------------------------------------------------\u001b[0m",
      "\u001b[0;31mValueError\u001b[0m                                Traceback (most recent call last)",
      "Cell \u001b[0;32mIn[26], line 1\u001b[0m\n\u001b[0;32m----> 1\u001b[0m y_hat \u001b[38;5;241m=\u001b[39m np\u001b[38;5;241m.\u001b[39mdivide(exp_z,normalize)\n\u001b[1;32m      2\u001b[0m y_hat\n",
      "\u001b[0;31mValueError\u001b[0m: operands could not be broadcast together with shapes (10,2) (10,) "
     ]
    }
   ],
   "source": [
    "y_hat = np.divide(exp_z,normalize)\n",
    "y_hat"
   ]
  },
  {
   "cell_type": "code",
   "execution_count": 34,
   "id": "e1ee5a99-6b47-4c53-b5be-59c6a05d9ab3",
   "metadata": {
    "tags": []
   },
   "outputs": [
    {
     "data": {
      "text/plain": [
       "array([10., 10., 10.])"
      ]
     },
     "execution_count": 34,
     "metadata": {},
     "output_type": "execute_result"
    }
   ],
   "source": [
    "np.sum(X, axis=1)"
   ]
  }
 ],
 "metadata": {
  "kernelspec": {
   "display_name": "Python 3 (ipykernel)",
   "language": "python",
   "name": "python3"
  },
  "language_info": {
   "codemirror_mode": {
    "name": "ipython",
    "version": 3
   },
   "file_extension": ".py",
   "mimetype": "text/x-python",
   "name": "python",
   "nbconvert_exporter": "python",
   "pygments_lexer": "ipython3",
   "version": "3.11.5"
  }
 },
 "nbformat": 4,
 "nbformat_minor": 5
}
