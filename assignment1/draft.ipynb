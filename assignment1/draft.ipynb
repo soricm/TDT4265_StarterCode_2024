{
 "cells": [
  {
   "cell_type": "code",
   "execution_count": 1,
   "id": "b5311db6-c839-423b-a2ae-b6b07c033bee",
   "metadata": {
    "tags": []
   },
   "outputs": [],
   "source": [
    "import numpy as np"
   ]
  },
  {
   "cell_type": "code",
   "execution_count": 7,
   "id": "1c8d8dd3-747b-4f43-99ad-9e44560dd654",
   "metadata": {
    "tags": []
   },
   "outputs": [],
   "source": [
    "X = np.random.rand(3,2)"
   ]
  },
  {
   "cell_type": "code",
   "execution_count": 16,
   "id": "dd1f2b14-5e2a-4d67-b091-a095cb4ae28a",
   "metadata": {
    "tags": []
   },
   "outputs": [],
   "source": [
    "X = np.zeros((3,2))\n",
    "a = np.zeros((3,2))\n",
    "a[0][0]=1"
   ]
  },
  {
   "cell_type": "code",
   "execution_count": 17,
   "id": "ad1c7e60-e92e-4bd7-8173-0f87420997e4",
   "metadata": {
    "tags": []
   },
   "outputs": [
    {
     "data": {
      "text/plain": [
       "(array([[1., 0.],\n",
       "        [0., 0.],\n",
       "        [0., 0.]]),\n",
       " array([[0., 0.],\n",
       "        [0., 0.],\n",
       "        [0., 0.]]))"
      ]
     },
     "execution_count": 17,
     "metadata": {},
     "output_type": "execute_result"
    }
   ],
   "source": [
    "a, X"
   ]
  },
  {
   "cell_type": "code",
   "execution_count": 28,
   "id": "33489f74-1b94-4189-a98b-2debc411b456",
   "metadata": {
    "tags": []
   },
   "outputs": [],
   "source": [
    "def one_hot_encode(Y: np.ndarray, num_classes: int):\n",
    "    \"\"\"\n",
    "    Args:\n",
    "        Y: shape [Num examples, 1]\n",
    "        num_classes: Number of classes to use for one-hot encoding\n",
    "    Returns:\n",
    "        Y: shape [Num examples, num classes]\n",
    "    \"\"\"\n",
    "    # TODO implement this function (Task 3a)\n",
    "    \n",
    "    Y_encoded = np.zeros((len(Y), num_classes))\n",
    "    for i in range(len(Y)):\n",
    "        Y_encoded[i][Y[i]] = 1\n",
    "    return Y_encoded"
   ]
  },
  {
   "cell_type": "code",
   "execution_count": 39,
   "id": "f65ac441-71c2-410f-ac0f-919e8e6676de",
   "metadata": {
    "tags": []
   },
   "outputs": [],
   "source": [
    "y_hat = np.random.rand(3,2)\n",
    "targets = np.zeros((3,2))"
   ]
  },
  {
   "cell_type": "code",
   "execution_count": 45,
   "id": "8092ee6b-aa85-4fb9-93e9-7f12857a3771",
   "metadata": {
    "tags": []
   },
   "outputs": [],
   "source": [
    "targets[0][0],targets[1][0],targets[2][0]=1,1,1"
   ]
  },
  {
   "cell_type": "code",
   "execution_count": 40,
   "id": "afac17b6-fb42-4f5d-9a99-a04e65ae66f8",
   "metadata": {
    "tags": []
   },
   "outputs": [
    {
     "data": {
      "text/plain": [
       "array([[0.5169184 , 0.37663921],\n",
       "       [0.03497399, 0.82702893],\n",
       "       [0.06318195, 0.85837104]])"
      ]
     },
     "execution_count": 40,
     "metadata": {},
     "output_type": "execute_result"
    }
   ],
   "source": [
    "y_hat"
   ]
  },
  {
   "cell_type": "code",
   "execution_count": 41,
   "id": "7eb6af81-1bc0-4da1-87c3-3fd5a5b13233",
   "metadata": {
    "tags": []
   },
   "outputs": [],
   "source": [
    "y_hat_digit = np.argmax(y_hat, axis=1)"
   ]
  },
  {
   "cell_type": "code",
   "execution_count": 46,
   "id": "6ed965fb-e187-4bcc-9aaa-4d5c2d8d7605",
   "metadata": {
    "tags": []
   },
   "outputs": [
    {
     "data": {
      "text/plain": [
       "array([0, 1, 1])"
      ]
     },
     "execution_count": 46,
     "metadata": {},
     "output_type": "execute_result"
    }
   ],
   "source": [
    "y_hat_digit"
   ]
  },
  {
   "cell_type": "code",
   "execution_count": 47,
   "id": "72fd83b1-6751-40fd-86fb-1b9b8301bf7f",
   "metadata": {
    "tags": []
   },
   "outputs": [],
   "source": [
    "y_hat_binary = one_hot_encode(y_hat_digit, targets.shape[1])"
   ]
  },
  {
   "cell_type": "code",
   "execution_count": 48,
   "id": "ba378498-554b-4ec1-afbe-ed8a7897fc08",
   "metadata": {
    "tags": []
   },
   "outputs": [
    {
     "data": {
      "text/plain": [
       "array([[1., 0.],\n",
       "       [0., 1.],\n",
       "       [0., 1.]])"
      ]
     },
     "execution_count": 48,
     "metadata": {},
     "output_type": "execute_result"
    }
   ],
   "source": [
    "y_hat_binary"
   ]
  },
  {
   "cell_type": "code",
   "execution_count": 49,
   "id": "fb5411c6-c85f-4ddd-9aee-29ea5bd00bea",
   "metadata": {
    "tags": []
   },
   "outputs": [
    {
     "data": {
      "text/plain": [
       "array([[1., 0.],\n",
       "       [1., 0.],\n",
       "       [1., 0.]])"
      ]
     },
     "execution_count": 49,
     "metadata": {},
     "output_type": "execute_result"
    }
   ],
   "source": [
    "targets"
   ]
  },
  {
   "cell_type": "code",
   "execution_count": 55,
   "id": "81439d9a-7469-473d-ac4e-df9b2946cafa",
   "metadata": {
    "tags": []
   },
   "outputs": [
    {
     "data": {
      "text/plain": [
       "array([[ True,  True],\n",
       "       [False, False],\n",
       "       [False, False]])"
      ]
     },
     "execution_count": 55,
     "metadata": {},
     "output_type": "execute_result"
    }
   ],
   "source": [
    "y_hat_binary == targets"
   ]
  },
  {
   "cell_type": "code",
   "execution_count": 53,
   "id": "540a1c3d-1fb5-4e96-840c-89f78d9990ef",
   "metadata": {
    "tags": []
   },
   "outputs": [],
   "source": [
    "accuracy = np.mean(np.sum(y_hat_binary == targets, axis=1) == 2)"
   ]
  },
  {
   "cell_type": "code",
   "execution_count": 54,
   "id": "c4aedfac-8063-40c0-9374-6ad6d8d650ba",
   "metadata": {
    "tags": []
   },
   "outputs": [
    {
     "data": {
      "text/plain": [
       "0.3333333333333333"
      ]
     },
     "execution_count": 54,
     "metadata": {},
     "output_type": "execute_result"
    }
   ],
   "source": [
    "accuracy"
   ]
  },
  {
   "cell_type": "code",
   "execution_count": null,
   "id": "d216ab3c-d121-42b9-9249-b9df5d8ddcf6",
   "metadata": {},
   "outputs": [],
   "source": []
  },
  {
   "cell_type": "code",
   "execution_count": 7,
   "id": "7de933e3-6aad-47d6-8b69-c04a5259290e",
   "metadata": {
    "tags": []
   },
   "outputs": [
    {
     "data": {
      "text/plain": [
       "array([[1., 1., 1., 1., 1., 1., 1., 1., 1., 1., 1.],\n",
       "       [1., 1., 1., 1., 1., 1., 1., 1., 1., 1., 1.],\n",
       "       [1., 1., 1., 1., 1., 1., 1., 1., 1., 1., 1.]])"
      ]
     },
     "execution_count": 7,
     "metadata": {},
     "output_type": "execute_result"
    }
   ],
   "source": [
    "np.hstack((X,np.ones((3,1))))"
   ]
  },
  {
   "cell_type": "code",
   "execution_count": 14,
   "id": "a27a4374-6176-48a6-a5c6-2068e54fbbda",
   "metadata": {},
   "outputs": [],
   "source": [
    "w = np.ones((3, 2))*3"
   ]
  },
  {
   "cell_type": "code",
   "execution_count": 15,
   "id": "836307ee-1dc2-4f8e-bd98-548d2ff980c5",
   "metadata": {},
   "outputs": [
    {
     "data": {
      "text/plain": [
       "((3, 2), (3, 10))"
      ]
     },
     "execution_count": 15,
     "metadata": {},
     "output_type": "execute_result"
    }
   ],
   "source": [
    "w.shape, X.shape"
   ]
  },
  {
   "cell_type": "code",
   "execution_count": 17,
   "id": "c2ef4cdf-e9a4-4473-a1b3-fbe990a513d7",
   "metadata": {
    "tags": []
   },
   "outputs": [
    {
     "data": {
      "text/plain": [
       "array([[8103.08392758, 8103.08392758],\n",
       "       [8103.08392758, 8103.08392758],\n",
       "       [8103.08392758, 8103.08392758],\n",
       "       [8103.08392758, 8103.08392758],\n",
       "       [8103.08392758, 8103.08392758],\n",
       "       [8103.08392758, 8103.08392758],\n",
       "       [8103.08392758, 8103.08392758],\n",
       "       [8103.08392758, 8103.08392758],\n",
       "       [8103.08392758, 8103.08392758],\n",
       "       [8103.08392758, 8103.08392758]])"
      ]
     },
     "execution_count": 17,
     "metadata": {},
     "output_type": "execute_result"
    }
   ],
   "source": [
    "exp_z = np.exp(X.T @ w) \n",
    "exp_z"
   ]
  },
  {
   "cell_type": "code",
   "execution_count": 28,
   "id": "0a3e215f-ba62-4beb-8ad5-1b775dd274ec",
   "metadata": {
    "tags": []
   },
   "outputs": [
    {
     "data": {
      "text/plain": [
       "array([6.1704902e-05, 6.1704902e-05, 6.1704902e-05, 6.1704902e-05,\n",
       "       6.1704902e-05, 6.1704902e-05, 6.1704902e-05, 6.1704902e-05,\n",
       "       6.1704902e-05, 6.1704902e-05])"
      ]
     },
     "execution_count": 28,
     "metadata": {},
     "output_type": "execute_result"
    }
   ],
   "source": [
    "normalize = np.sum(exp_z, axis=1)\n",
    "1/normalize"
   ]
  },
  {
   "cell_type": "code",
   "execution_count": 26,
   "id": "fc1c868b-f71f-48ef-bb1d-f3de0e1f29e7",
   "metadata": {
    "tags": []
   },
   "outputs": [
    {
     "ename": "ValueError",
     "evalue": "operands could not be broadcast together with shapes (10,2) (10,) ",
     "output_type": "error",
     "traceback": [
      "\u001b[0;31m---------------------------------------------------------------------------\u001b[0m",
      "\u001b[0;31mValueError\u001b[0m                                Traceback (most recent call last)",
      "Cell \u001b[0;32mIn[26], line 1\u001b[0m\n\u001b[0;32m----> 1\u001b[0m y_hat \u001b[38;5;241m=\u001b[39m np\u001b[38;5;241m.\u001b[39mdivide(exp_z,normalize)\n\u001b[1;32m      2\u001b[0m y_hat\n",
      "\u001b[0;31mValueError\u001b[0m: operands could not be broadcast together with shapes (10,2) (10,) "
     ]
    }
   ],
   "source": [
    "y_hat = np.divide(exp_z,normalize)\n",
    "y_hat"
   ]
  },
  {
   "cell_type": "code",
   "execution_count": 34,
   "id": "e1ee5a99-6b47-4c53-b5be-59c6a05d9ab3",
   "metadata": {
    "tags": []
   },
   "outputs": [
    {
     "data": {
      "text/plain": [
       "array([10., 10., 10.])"
      ]
     },
     "execution_count": 34,
     "metadata": {},
     "output_type": "execute_result"
    }
   ],
   "source": [
    "np.sum(X, axis=1)"
   ]
  },
  {
   "cell_type": "code",
   "execution_count": 62,
   "id": "f59e2b62-70d8-4ba7-a4e3-3a9aba0914a1",
   "metadata": {
    "tags": []
   },
   "outputs": [],
   "source": [
    "def forward(X: np.ndarray) -> np.ndarray:\n",
    "        \"\"\"\n",
    "        Args:\n",
    "            X: images of shape [batch size, 785]\n",
    "        Returns:\n",
    "            y: output of model with shape [batch size, num_outputs]\n",
    "        \"\"\"\n",
    "        # TODO implement this function (Task 3a)\n",
    "        \n",
    "        exp_z = np.exp(X) \n",
    "        normalize = np.sum(exp_z, axis=1)\n",
    "        y_hat = np.diag(1/normalize) @ exp_z\n",
    "        \n",
    "        return y_hat"
   ]
  },
  {
   "cell_type": "code",
   "execution_count": 59,
   "id": "2917f05b-f3b3-4a60-a599-62eca4cf66c8",
   "metadata": {
    "tags": []
   },
   "outputs": [],
   "source": [
    "X = np.random.rand(5,3)"
   ]
  },
  {
   "cell_type": "code",
   "execution_count": 60,
   "id": "579701bd-1fc9-40d8-885f-c782f7397ff6",
   "metadata": {
    "tags": []
   },
   "outputs": [
    {
     "data": {
      "text/plain": [
       "array([[0.17761305, 0.76299923, 0.74053112],\n",
       "       [0.73265845, 0.84567167, 0.91553021],\n",
       "       [0.67943166, 0.54249709, 0.01819818],\n",
       "       [0.25079347, 0.55273581, 0.64057224],\n",
       "       [0.73327744, 0.95603577, 0.92347903]])"
      ]
     },
     "execution_count": 60,
     "metadata": {},
     "output_type": "execute_result"
    }
   ],
   "source": [
    "X"
   ]
  },
  {
   "cell_type": "code",
   "execution_count": 64,
   "id": "a11655dd-4217-4111-9a11-f5b02b0ccce6",
   "metadata": {
    "tags": []
   },
   "outputs": [],
   "source": [
    "y = forward(X)"
   ]
  },
  {
   "cell_type": "code",
   "execution_count": 65,
   "id": "5463ed1e-9dfe-407e-96f1-bf03ff11e72b",
   "metadata": {
    "tags": []
   },
   "outputs": [
    {
     "data": {
      "text/plain": [
       "array([1., 1., 1., 1., 1.])"
      ]
     },
     "execution_count": 65,
     "metadata": {},
     "output_type": "execute_result"
    }
   ],
   "source": [
    "np.sum(y, axis=1)"
   ]
  },
  {
   "cell_type": "code",
   "execution_count": null,
   "id": "a50a327c-9de6-4a16-b031-670bd787cfa5",
   "metadata": {},
   "outputs": [],
   "source": []
  },
  {
   "cell_type": "code",
   "execution_count": null,
   "id": "7f18ca54-4d9e-4eb2-9ab8-17e567bd4cf0",
   "metadata": {},
   "outputs": [],
   "source": []
  },
  {
   "cell_type": "code",
   "execution_count": null,
   "id": "3d77154c-b8e5-4f7e-a6cf-bcfa8ecf9c05",
   "metadata": {},
   "outputs": [],
   "source": []
  },
  {
   "cell_type": "code",
   "execution_count": null,
   "id": "4aec69ab-33a1-484c-8b71-c133d0512040",
   "metadata": {},
   "outputs": [],
   "source": []
  }
 ],
 "metadata": {
  "kernelspec": {
   "display_name": "Python 3 (ipykernel)",
   "language": "python",
   "name": "python3"
  },
  "language_info": {
   "codemirror_mode": {
    "name": "ipython",
    "version": 3
   },
   "file_extension": ".py",
   "mimetype": "text/x-python",
   "name": "python",
   "nbconvert_exporter": "python",
   "pygments_lexer": "ipython3",
   "version": "3.11.5"
  }
 },
 "nbformat": 4,
 "nbformat_minor": 5
}
