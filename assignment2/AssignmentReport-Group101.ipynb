{
 "cells": [
  {
   "cell_type": "markdown",
   "metadata": {},
   "source": [
    "# Assignment 2 Report"
   ]
  },
  {
   "cell_type": "markdown",
   "metadata": {},
   "source": [
    "Marijan Soric and Zan Stanonik"
   ]
  },
  {
   "cell_type": "markdown",
   "metadata": {},
   "source": [
    "# Task 1"
   ]
  },
  {
   "cell_type": "markdown",
   "metadata": {},
   "source": [
    "## task 1a)\n",
    "\n",
    "Fill in task 1a image of hand-written notes which are easy to read, or latex equations here\n",
    "$$w_{ji} := w_{ji} − \\alpha \\frac{\\partial C}{\\partial w_{ji}}$$\n",
    "$$\\frac{\\partial C}{\\partial w_{ji}}=\\frac{\\partial C}{\\partial z_j}\\frac{\\partial z_j}{\\partial w_{ji}}=\\delta_j x_i$$\n",
    "With $$\\delta_j=\\frac{\\partial C}{\\partial z_j}=−(y_j − \\hat{y}_j)=−(y_j − f(z_j))$$\n",
    "But also:\n",
    "$$\\delta_j=\\frac{\\partial C}{\\partial z_j}=\\sum_k \\frac{\\partial C}{\\partial a_k}\\frac{\\partial a_k}{\\partial z_j}$$\n",
    "$$\\sum_k \\frac{\\partial C}{\\partial a_k}\\frac{\\partial a_k}{\\partial z_j}=\n",
    "\\sum_k \\frac{\\partial C}{\\partial a_k}\\frac{\\partial a_k}{\\partial z_j}$$"
   ]
  },
  {
   "cell_type": "markdown",
   "metadata": {},
   "source": [
    "# Task 2"
   ]
  },
  {
   "cell_type": "code",
   "execution_count": 1,
   "metadata": {
    "tags": []
   },
   "outputs": [
    {
     "name": "stdout",
     "output_type": "stream",
     "text": [
      "Train shape: X: (20000, 784), Y: (20000, 1)\n",
      "Validation shape: X: (10000, 784), Y: (10000, 1)\n",
      "Mean: 33.55\n",
      "Standard deviation: 78.88\n"
     ]
    }
   ],
   "source": [
    "import numpy as np\n",
    "import utils\n",
    "X, Y_train, *_ = utils.load_full_mnist()\n",
    "print(f\"Mean: {np.mean(X):.2f}\\nStandard deviation: {np.var(X)**.5:.2f}\")"
   ]
  },
  {
   "cell_type": "markdown",
   "metadata": {},
   "source": [
    "## Task 2c)\n",
    "![task2c_train_loss.png](task2c_train_loss.png)"
   ]
  },
  {
   "cell_type": "markdown",
   "metadata": {},
   "source": [
    "## Task 2d)\n",
    "There are $785 \\times 64 + 64 \\times 10 = 50 880$ parameters in the nework. "
   ]
  },
  {
   "cell_type": "markdown",
   "metadata": {},
   "source": [
    "# Task 3"
   ]
  },
  {
   "cell_type": "markdown",
   "metadata": {},
   "source": [
    "*Shortly comment on the change in performance, which has hopefully improved with each addition, at least in terms of learning speed. Note that we expect you to comment on convergence speed, generalization/overfitting, and final accuracy/validation loss of the model. Include a plot of the loss detailing the improvements for each addition. We’ve included task3.py as an example on how you can create this comparison plot. You can extend this file to solve this task.*\n",
    "\n",
    "Maybe include a loss / accuracy plot here?"
   ]
  },
  {
   "cell_type": "markdown",
   "metadata": {},
   "source": [
    "# Task 4"
   ]
  },
  {
   "cell_type": "markdown",
   "metadata": {},
   "source": [
    "## Task 4a)\n",
    "\n",
    "FILL IN ANSWER. "
   ]
  },
  {
   "cell_type": "markdown",
   "metadata": {},
   "source": [
    "## Task 4b)\n",
    "FILL IN ANSWER\n"
   ]
  },
  {
   "cell_type": "markdown",
   "metadata": {},
   "source": [
    "## Task 4d)\n",
    "FILL IN ANSWER"
   ]
  },
  {
   "cell_type": "markdown",
   "metadata": {},
   "source": [
    "## Task 4e)\n",
    "FILL IN ANSWER"
   ]
  }
 ],
 "metadata": {
  "kernelspec": {
   "display_name": "Python 3 (ipykernel)",
   "language": "python",
   "name": "python3"
  },
  "language_info": {
   "codemirror_mode": {
    "name": "ipython",
    "version": 3
   },
   "file_extension": ".py",
   "mimetype": "text/x-python",
   "name": "python",
   "nbconvert_exporter": "python",
   "pygments_lexer": "ipython3",
   "version": "3.11.5"
  }
 },
 "nbformat": 4,
 "nbformat_minor": 4
}
