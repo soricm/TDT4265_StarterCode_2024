{
 "cells": [
  {
   "metadata": {},
   "cell_type": "markdown",
   "source": [
    "## Preparation\n",
    "\n",
    "Install pytorch\n",
    "`pip3 install torch torchvision torchaudio --index-url https://download.pytorch.org/whl/cu116`\n",
    "\n",
    "For the Faster R-CNN"
   ],
   "id": "7b978e7db57468aa"
  },
  {
   "metadata": {
    "ExecuteTime": {
     "end_time": "2024-04-27T17:42:53.933021Z",
     "start_time": "2024-04-27T17:42:49.255899Z"
    }
   },
   "cell_type": "code",
   "source": [
    "import torch\n",
    "from matplotlib import pyplot as plt\n",
    "import cv2\n",
    "import frcnn.detect_utils as detect_utils\n",
    "import numpy as np\n",
    "from PIL import Image\n",
    "from frcnn.model import get_model\n",
    "\n",
    "model_name = \"v2\"\n",
    "threshold = 0.5\n",
    "image_name = \"./datasets/1_train-val_1min_aalesund_from_start/img1/000003.jpg\""
   ],
   "id": "74fd4cc7cd22e0d8",
   "outputs": [],
   "execution_count": 1
  },
  {
   "metadata": {
    "ExecuteTime": {
     "end_time": "2024-04-27T17:42:58.812850Z",
     "start_time": "2024-04-27T17:42:53.933467Z"
    }
   },
   "cell_type": "code",
   "source": [
    "device = torch.device('cuda:0' if torch.cuda.is_available() else 'cpu')\n",
    "print(f\"Using {device} device\")\n",
    "model = get_model(device, model_name=model_name)\n",
    "\n",
    "image = Image.open(image_name).convert('RGB')\n",
    "image_bgr = cv2.cvtColor(np.array(image), cv2.COLOR_RGB2BGR)\n",
    "\n",
    "# detect outputs.\n",
    "with torch.no_grad():\n",
    "    boxes, classes, labels, class_count = detect_utils.predict(image, model, device, threshold)"
   ],
   "id": "f33f71a69ac973df",
   "outputs": [
    {
     "name": "stdout",
     "output_type": "stream",
     "text": [
      "Using cpu device\n"
     ]
    }
   ],
   "execution_count": 2
  },
  {
   "metadata": {
    "ExecuteTime": {
     "end_time": "2024-04-27T17:46:13.732577Z",
     "start_time": "2024-04-27T17:42:58.812850Z"
    }
   },
   "cell_type": "code",
   "source": [
    "# draw bounding boxes.\n",
    "plot_img = detect_utils.draw_boxes(boxes, classes, labels, image_bgr, classes_count=class_count)\n",
    "save_name = f\"{image_name.split('/')[-1].split('.')[0]}_t{''.join(str(threshold).split('.'))}_{model_name}\"\n",
    "cv2.imshow('Image', plot_img)\n",
    "# cv2.imwrite(f\"outputs/{save_name}.jpg\", image)\n",
    "cv2.waitKey(0)\n",
    "cv2.destroyAllWindows()"
   ],
   "id": "5daadbb1b6e35810",
   "outputs": [],
   "execution_count": 3
  },
  {
   "metadata": {
    "ExecuteTime": {
     "end_time": "2024-04-27T17:46:13.748473Z",
     "start_time": "2024-04-27T17:46:13.736086Z"
    }
   },
   "cell_type": "code",
   "source": [
    "# plot it inside the notebook\n",
    "# RGB_im = cv2.cvtColor(plot_img, cv2.COLOR_BGR2RGB)\n",
    "# plt.imshow(RGB_im)"
   ],
   "id": "54bef093206d4922",
   "outputs": [],
   "execution_count": 4
  },
  {
   "metadata": {
    "ExecuteTime": {
     "end_time": "2024-04-27T17:46:13.764186Z",
     "start_time": "2024-04-27T17:46:13.750987Z"
    }
   },
   "cell_type": "code",
   "source": "",
   "id": "ad823d360a30b5f8",
   "outputs": [],
   "execution_count": 4
  }
 ],
 "metadata": {
  "kernelspec": {
   "display_name": "Python 3",
   "language": "python",
   "name": "python3"
  },
  "language_info": {
   "codemirror_mode": {
    "name": "ipython",
    "version": 2
   },
   "file_extension": ".py",
   "mimetype": "text/x-python",
   "name": "python",
   "nbconvert_exporter": "python",
   "pygments_lexer": "ipython2",
   "version": "2.7.6"
  }
 },
 "nbformat": 4,
 "nbformat_minor": 5
}
