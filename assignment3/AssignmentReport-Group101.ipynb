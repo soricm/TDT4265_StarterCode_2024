{
 "cells": [
  {
   "cell_type": "markdown",
   "metadata": {},
   "source": [
    "# Assignment 3 Report"
   ]
  },
  {
   "cell_type": "markdown",
   "metadata": {},
   "source": [
    "Marijan Soric and Zan Stanonik"
   ]
  },
  {
   "cell_type": "markdown",
   "metadata": {},
   "source": [
    "# Task 1"
   ]
  },
  {
   "cell_type": "markdown",
   "metadata": {},
   "source": [
    "## task 1a)\n",
    "\n",
    "$$I =  \\begin{pmatrix}\n",
    "    2& 1& 2& 3& 1 \\\\\n",
    "    3& 9& 1& 1& 4 \\\\\n",
    "    4& 5& 0& 7& 0\n",
    "  \\end{pmatrix}\n",
    "\\quad\n",
    "K = \\begin{pmatrix}\n",
    "    -1 & 0 & 1 \\\\\n",
    "    -2 & 0 & 2 \\\\\n",
    "    -1 & 0 & 1\n",
    "  \\end{pmatrix}$$\n",
    "  \n",
    "$$K \\star I \\in \\mathbb R^{3\\times 5}$$\n",
    "$$K \\star I = \\scriptsize{\\begin{pmatrix}\n",
    "    1 \\cdot 2 +9 \\cdot 1 &2\\cdot (-2) + 3\\cdot (-1) +2\\cdot 2 + 1\\cdot 1 & 1\\cdot (-2) + 9\\cdot (-1)  +3\\cdot 2 +1 \\cdot 1& 2\\cdot (-2) + 1\\cdot (-1) +1\\cdot 2 + 4\\cdot 1& 3\\cdot (-2) + 1\\cdot (-1) \\\\\n",
    "    1 \\cdot 1 + 9 \\cdot 2 + 5 \\cdot 1& 2\\cdot (-1) +3\\cdot (-2) + 4\\cdot (-1) +2\\cdot 1 +1\\cdot 2 + 0\\cdot 1&1\\cdot (-1) +9\\cdot (-2) + 5\\cdot (-1) +3\\cdot 1 +1\\cdot 2 + 7\\cdot 1& 2\\cdot (-1) +1\\cdot (-2) +1\\cdot 1 +4\\cdot 2 & 3\\cdot (-1) +1\\cdot (-2) + 7\\cdot (-1) \\\\\n",
    "    9 \\cdot 1 + 5 \\cdot 2& 3\\cdot (-1) 4+\\cdot (-2) +1\\cdot 1 &9 \\cdot (-1) +5\\cdot (-2) +1\\cdot 1 +7\\cdot 2 & 1\\cdot (-1) + \\cdot (-1) +4\\cdot 1 &1 \\cdot (-1) +7\\cdot (-2) \n",
    "  \\end{pmatrix} }$$\n",
    "  $$I \\star K = \\begin{pmatrix}\n",
    "    -11& 2& 4& -1& 7\\\\\n",
    "    -24& 8& 12& -5& 12\\\\\n",
    "    -19& 10& 4& -3& 15\n",
    "  \\end{pmatrix}$$"
   ]
  },
  {
   "cell_type": "code",
   "execution_count": 1,
   "metadata": {
    "tags": []
   },
   "outputs": [
    {
     "data": {
      "text/plain": [
       "array([[-11,   2,   4,  -1,   7],\n",
       "       [-24,   8,  12,  -5,  12],\n",
       "       [-19,  10,   4,  -3,  15]])"
      ]
     },
     "execution_count": 1,
     "metadata": {},
     "output_type": "execute_result"
    }
   ],
   "source": [
    "import numpy as np\n",
    "import scipy\n",
    "x = np.array([[2, 1, 2, 3, 1],\n",
    "              [3, 9, 1, 1, 4],\n",
    "              [4, 5, 0, 7, 0]])\n",
    "y = np.array([[-1, 0, 1],\n",
    "              [-2, 0, 2],\n",
    "              [-1, 0, 1]])\n",
    "scipy.ndimage.convolve(x,y,mode='constant')"
   ]
  },
  {
   "cell_type": "markdown",
   "metadata": {},
   "source": [
    "## task 1b)\n",
    "The **Max Pooling** layer reduces the sensitivity to translational variations in the input because **fill**.\n",
    "\n",
    "## task 1c)\n",
    "\n",
    "*Given a single convolutional layer with a stride $S=1$, kernel size of 7 × 7, and $F=6$ filters. If you want the output shape (Height × Width) of the convolutional layer to be equal to the input image, how much padding $P$ should you use on each side?*\n",
    "\n",
    "There are two equations that link output shape to the input shape:\n",
    "$$W_\\text{out}=\\frac{W_\\text{in}-F+2P}{S}+1 \\quad H_\\text{out}=\\frac{H_\\text{in}-F+2P}{S}+1$$\n",
    "Since, $W_\\text{out}=W_\\text{in}$ and $H_\\text{out}=H_\\text{in}$,\n",
    "$$P=\\frac{W(S-1)+F+S}{2}=3.5$$\n",
    "\n",
    "\n",
    "\n",
    "## task 1d)\n",
    "\n",
    "*You are told that the spatial dimensions of the feature maps in the first layer are 508 × 508\n",
    "and that there are 12 feature maps in the first layer. Assuming that no padding is used, the stride\n",
    "is 1, and the kernel used is square and odd number size, what are the spatial dimensions of these\n",
    "kernels? Give the answer as (Height) × (Width).*\n",
    "\n",
    "$$W_\\text{out}=\\frac{W_\\text{in}-\\mathbf{F}+2P}{S}+1$$\n",
    "With numerical values:\n",
    "$$508=\\frac{512-\\mathbf{F}+2 \\times 0}{1}+1$$\n",
    "$$\\mathbf{F}=512-508+1=5$$\n",
    "Same result for the width. Thus the kernel is in $\\mathbb R^{5 \\times 5}$\n",
    "\n",
    "## task 1e)\n",
    "* If subsampling is done after the first convolutional layer, using filters of size 2 × 2, with a stride of 2, what are the spatial dimensions of the pooled feature maps in the first pooling layer? Give the answer as (Height) × (Width).*\n",
    "After the pooling with size $2 \\times 2$ and stride of 2, the spatial dimensions becomes $\\left( \\frac{508}{2},\\frac{508}{2} \\right)=(254,254)$.\n",
    "\n",
    "## task 1f)\n",
    "*The spatial dimensions of the convolution kernels in the second layer are 3 × 3. Assuming no\n",
    "padding and a stride of 1, what are the sizes of the feature maps in the second layer? Give the\n",
    "answer as (Height) × (Width).*\n",
    "\n",
    "\n",
    "## task 1g)\n",
    "Let's count how many parameters there are in the network.\n",
    "\n",
    "| Layer | Type  | Units / Filters | Input size      | Output size    | Number of parameters           |\n",
    "|-------|-------|-----------------|-----------------|----------------|--------------------------------|\n",
    "| 1     | Conv  | 32              | $3 \\times32^2   |$32 \\times 16^2$| 32 \\times (3 \\times 5^2 +1)    |\n",
    "| 2     | Conv  | 64              | 32$\\times16^2$  | 64 \\times 8^2  | 64 \\times (3 \\times5^2 +1)     |\n",
    "| 3     | Conv  | 128             | 64$\\times 8^2$  | 128 x 4^2      | 128 \\times (3 \\times 5^2 +1)   |\n",
    "| 4     | Fully | 64              |  (128 \\cdot 4^2)| 64             | 64 \\times (128 \\times 4^2 +1)  |\n",
    "| 5     | Fully | 10              | 64              | 10             | 10 \\times (64 +1)              |\n",
    "| Sum   |       |                 |                 |                | sum                            |"
   ]
  },
  {
   "cell_type": "code",
   "execution_count": null,
   "metadata": {},
   "outputs": [],
   "source": []
  },
  {
   "cell_type": "markdown",
   "metadata": {
    "tags": []
   },
   "source": [
    "# Task 2\n",
    "\n",
    "### Task 2a)\n",
    "\n",
    "### Task 2b)"
   ]
  },
  {
   "cell_type": "code",
   "execution_count": null,
   "metadata": {},
   "outputs": [],
   "source": []
  },
  {
   "cell_type": "markdown",
   "metadata": {},
   "source": [
    "# Task 3"
   ]
  },
  {
   "cell_type": "markdown",
   "metadata": {},
   "source": [
    "### Task 3a)\n",
    "### Task 3b)\n",
    "### Task 3c)\n",
    "### Task 3d)\n",
    "### Task 3e)\n",
    "### Task 3f)"
   ]
  },
  {
   "cell_type": "markdown",
   "metadata": {},
   "source": [
    "# Task 4"
   ]
  },
  {
   "cell_type": "markdown",
   "metadata": {},
   "source": [
    "## Task 4a)\n",
    "\n",
    "FILL IN ANSWER. "
   ]
  },
  {
   "cell_type": "markdown",
   "metadata": {},
   "source": [
    "## Task 4b)\n",
    "FILL IN ANSWER\n"
   ]
  },
  {
   "cell_type": "markdown",
   "metadata": {},
   "source": [
    "## Task 4c)\n",
    "FILL IN ANSWER"
   ]
  }
 ],
 "metadata": {
  "kernelspec": {
   "display_name": "Python 3 (ipykernel)",
   "language": "python",
   "name": "python3"
  },
  "language_info": {
   "codemirror_mode": {
    "name": "ipython",
    "version": 3
   },
   "file_extension": ".py",
   "mimetype": "text/x-python",
   "name": "python",
   "nbconvert_exporter": "python",
   "pygments_lexer": "ipython3",
   "version": "3.11.5"
  }
 },
 "nbformat": 4,
 "nbformat_minor": 4
}
